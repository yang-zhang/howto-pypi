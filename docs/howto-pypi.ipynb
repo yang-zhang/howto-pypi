{
 "cells": [
  {
   "cell_type": "markdown",
   "metadata": {},
   "source": [
    "# How to package and distribut projects - with [a template project](https://github.com/yang-zhang/howto-pypi)"
   ]
  },
  {
   "cell_type": "markdown",
   "metadata": {},
   "source": [
    "Upgrade `setuptools` and install `twine` and `wheel`."
   ]
  },
  {
   "cell_type": "markdown",
   "metadata": {},
   "source": [
    "Create `setup.py`, for [example](https://github.com/yang-zhang/howto-pypi/blob/master/setup.py):"
   ]
  },
  {
   "cell_type": "markdown",
   "metadata": {},
   "source": [
    "Create a source distribution:\n",
    "```sh\n",
    "python setup.py sdist\n",
    "```\n",
    "\n",
    "Build the [wheel](https://packaging.python.org/tutorials/distributing-packages/#wheels):\n",
    "```sh\n",
    "python setup.py bdist_wheel --universal\n",
    "```"
   ]
  },
  {
   "cell_type": "markdown",
   "metadata": {},
   "source": [
    "Uploading the project to PyPI\n",
    "\n",
    "Register on PyPI and Create a ~/.pypirc file with your username and password:\n",
    "```\n",
    "[pypi]\n",
    "username = yang-zhang\n",
    "password = my-passward\n",
    "```\n",
    "Upload:\n",
    "```sh\n",
    "$ twine upload dist/*\n",
    "Uploading distributions to https://upload.pypi.org/legacy/\n",
    "Uploading howto_pypi-0.0.0-py2.py3-none-any.whl\n",
    "[================================] 4351/4351 - 00:00:01\n",
    "Uploading howto-pypi-0.0.0.tar.gz\n",
    "[================================] 3234/3234 - 00:00:00\n",
    "```"
   ]
  },
  {
   "cell_type": "markdown",
   "metadata": {},
   "source": [
    "Now you can install the package:\n",
    "\n",
    "```sh\n",
    "$ pip install howto-pypi\n",
    "Collecting howto-pypi\n",
    "  Downloading howto_pypi-0.0.0-py2.py3-none-any.whl\n",
    "Installing collected packages: howto-pypi\n",
    "Successfully installed howto-pypi-0.0.0\n",
    "```"
   ]
  },
  {
   "cell_type": "markdown",
   "metadata": {},
   "source": [
    "And run:\n",
    "```py\n",
    ">>> from howto_pypi import display\n",
    ">>> howto_pypi.display.howto()\n",
    "```"
   ]
  },
  {
   "cell_type": "markdown",
   "metadata": {},
   "source": [
    "References:\n",
    "- https://packaging.python.org/tutorials/distributing-packages/\n",
    "- https://github.com/pypa/sampleproject"
   ]
  },
  {
   "cell_type": "markdown",
   "metadata": {},
   "source": [
    "[Home](https://yang-zhang.github.io/)"
   ]
  }
 ],
 "metadata": {
  "kernelspec": {
   "display_name": "Python 3",
   "language": "python",
   "name": "python3"
  },
  "language_info": {
   "codemirror_mode": {
    "name": "ipython",
    "version": 3
   },
   "file_extension": ".py",
   "mimetype": "text/x-python",
   "name": "python",
   "nbconvert_exporter": "python",
   "pygments_lexer": "ipython3",
   "version": "3.6.0"
  },
  "toc": {
   "colors": {
    "hover_highlight": "#DAA520",
    "navigate_num": "#000000",
    "navigate_text": "#333333",
    "running_highlight": "#FF0000",
    "selected_highlight": "#FFD700",
    "sidebar_border": "#EEEEEE",
    "wrapper_background": "#FFFFFF"
   },
   "moveMenuLeft": true,
   "nav_menu": {
    "height": "12px",
    "width": "252px"
   },
   "navigate_menu": true,
   "number_sections": true,
   "sideBar": true,
   "threshold": 4,
   "toc_cell": false,
   "toc_section_display": "block",
   "toc_window_display": false,
   "widenNotebook": false
  }
 },
 "nbformat": 4,
 "nbformat_minor": 2
}
